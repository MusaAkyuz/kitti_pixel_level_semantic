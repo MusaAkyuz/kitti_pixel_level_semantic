{
 "cells": [
  {
   "cell_type": "code",
   "execution_count": null,
   "metadata": {},
   "outputs": [],
   "source": [
    "from utils.definitions import *\n",
    "from utils.augment import *\n",
    "import os"
   ]
  },
  {
   "cell_type": "code",
   "execution_count": 5,
   "metadata": {},
   "outputs": [],
   "source": [
    "for file in os.listdir(TRAIN_IMAGE_PATH):\n",
    "    img = cv2.imread(os.path.join(TRAIN_IMAGE_PATH, file))\n",
    "    img = grayscale_image(img)\n",
    "    img = resize_image(img, (256, 256))\n",
    "    cv2.imwrite(os.path.join(PREPARED_TRAIN_IMAGE, file), img)\n",
    "    \n",
    "for mask in os.listdir(TRAIN_RGB_SEMANTIC_PATH):\n",
    "    img = cv2.imread(os.path.join(TRAIN_RGB_SEMANTIC_PATH, mask))\n",
    "    img = resize_image(img, (256, 256))\n",
    "    img = crop_mask(img, ROAD)\n",
    "    cv2.imwrite(os.path.join(PREPARED_TRAIN_MASK, mask), img)\n",
    "    \n",
    "for test in os.listdir(TEST_IMAGE_PATH):\n",
    "    img = cv2.imread(os.path.join(TEST_IMAGE_PATH, test))\n",
    "    img = grayscale_image(img)\n",
    "    img = resize_image(img, (256, 256))\n",
    "    cv2.imwrite(os.path.join(PREPARED_TEST_IMAGE, test), img)"
   ]
  },
  {
   "attachments": {},
   "cell_type": "markdown",
   "metadata": {},
   "source": []
  }
 ],
 "metadata": {
  "kernelspec": {
   "display_name": "Python 3",
   "language": "python",
   "name": "python3"
  },
  "language_info": {
   "codemirror_mode": {
    "name": "ipython",
    "version": 3
   },
   "file_extension": ".py",
   "mimetype": "text/x-python",
   "name": "python",
   "nbconvert_exporter": "python",
   "pygments_lexer": "ipython3",
   "version": "3.11.3"
  },
  "orig_nbformat": 4
 },
 "nbformat": 4,
 "nbformat_minor": 2
}
